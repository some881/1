import pandas as pd
df=pd.read_csv("book2")
df.head()
